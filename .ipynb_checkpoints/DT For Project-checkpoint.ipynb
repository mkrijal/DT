{
 "cells": [
  {
   "cell_type": "code",
   "execution_count": 7,
   "metadata": {
    "collapsed": true
   },
   "outputs": [],
   "source": [
    "# Import Libraries"
   ]
  },
  {
   "cell_type": "code",
   "execution_count": 8,
   "metadata": {
    "collapsed": true
   },
   "outputs": [],
   "source": [
    "import pandas as pd\n",
    "import numpy as np\n",
    "import matplotlib.pyplot as plt"
   ]
  },
  {
   "cell_type": "code",
   "execution_count": 10,
   "metadata": {
    "collapsed": true
   },
   "outputs": [],
   "source": [
    "#Import Dataset"
   ]
  },
  {
   "cell_type": "code",
   "execution_count": 11,
   "metadata": {
    "collapsed": false
   },
   "outputs": [
    {
     "data": {
      "text/html": [
       "<div>\n",
       "<table border=\"1\" class=\"dataframe\">\n",
       "  <thead>\n",
       "    <tr style=\"text-align: right;\">\n",
       "      <th></th>\n",
       "      <th>date</th>\n",
       "      <th>l_ipn</th>\n",
       "      <th>r_asn</th>\n",
       "      <th>f</th>\n",
       "    </tr>\n",
       "  </thead>\n",
       "  <tbody>\n",
       "    <tr>\n",
       "      <th>0</th>\n",
       "      <td>2006-07-01</td>\n",
       "      <td>0</td>\n",
       "      <td>701</td>\n",
       "      <td>1</td>\n",
       "    </tr>\n",
       "    <tr>\n",
       "      <th>1</th>\n",
       "      <td>2006-07-01</td>\n",
       "      <td>0</td>\n",
       "      <td>714</td>\n",
       "      <td>1</td>\n",
       "    </tr>\n",
       "    <tr>\n",
       "      <th>2</th>\n",
       "      <td>2006-07-01</td>\n",
       "      <td>0</td>\n",
       "      <td>1239</td>\n",
       "      <td>1</td>\n",
       "    </tr>\n",
       "    <tr>\n",
       "      <th>3</th>\n",
       "      <td>2006-07-01</td>\n",
       "      <td>0</td>\n",
       "      <td>1680</td>\n",
       "      <td>1</td>\n",
       "    </tr>\n",
       "    <tr>\n",
       "      <th>4</th>\n",
       "      <td>2006-07-01</td>\n",
       "      <td>0</td>\n",
       "      <td>2514</td>\n",
       "      <td>1</td>\n",
       "    </tr>\n",
       "  </tbody>\n",
       "</table>\n",
       "</div>"
      ],
      "text/plain": [
       "         date  l_ipn  r_asn  f\n",
       "0  2006-07-01      0    701  1\n",
       "1  2006-07-01      0    714  1\n",
       "2  2006-07-01      0   1239  1\n",
       "3  2006-07-01      0   1680  1\n",
       "4  2006-07-01      0   2514  1"
      ]
     },
     "execution_count": 11,
     "metadata": {},
     "output_type": "execute_result"
    }
   ],
   "source": [
    "botnet = pd.read_csv('D://Project1/Security/Botnet threat/cs448b_ipasn.csv')\n",
    "botnet.head()"
   ]
  },
  {
   "cell_type": "code",
   "execution_count": 12,
   "metadata": {
    "collapsed": false
   },
   "outputs": [
    {
     "name": "stdout",
     "output_type": "stream",
     "text": [
      "<class 'pandas.core.frame.DataFrame'>\n",
      "RangeIndex: 20803 entries, 0 to 20802\n",
      "Data columns (total 4 columns):\n",
      "date     20803 non-null object\n",
      "l_ipn    20803 non-null int64\n",
      "r_asn    20803 non-null int64\n",
      "f        20803 non-null int64\n",
      "dtypes: int64(3), object(1)\n",
      "memory usage: 650.2+ KB\n"
     ]
    }
   ],
   "source": [
    "botnet.info()"
   ]
  },
  {
   "cell_type": "code",
   "execution_count": 13,
   "metadata": {
    "collapsed": false
   },
   "outputs": [
    {
     "data": {
      "text/plain": [
       "20803"
      ]
     },
     "execution_count": 13,
     "metadata": {},
     "output_type": "execute_result"
    }
   ],
   "source": [
    "#Total row\n",
    "botnet.shape[0]"
   ]
  },
  {
   "cell_type": "code",
   "execution_count": 16,
   "metadata": {
    "collapsed": true
   },
   "outputs": [],
   "source": [
    "#Get total number of connection for all local IP"
   ]
  },
  {
   "cell_type": "code",
   "execution_count": 15,
   "metadata": {
    "collapsed": false
   },
   "outputs": [
    {
     "data": {
      "text/plain": [
       "l_ipn\n",
       "0    3980\n",
       "1    2159\n",
       "2    2416\n",
       "3    1186\n",
       "4    1308\n",
       "5    1249\n",
       "6    1305\n",
       "7    2233\n",
       "8    2230\n",
       "9    2737\n",
       "dtype: int64"
      ]
     },
     "execution_count": 15,
     "metadata": {},
     "output_type": "execute_result"
    }
   ],
   "source": [
    "botnet.groupby('l_ipn').size()"
   ]
  },
  {
   "cell_type": "code",
   "execution_count": 17,
   "metadata": {
    "collapsed": true
   },
   "outputs": [],
   "source": [
    "#Get total number of connection for all foreign IP"
   ]
  },
  {
   "cell_type": "code",
   "execution_count": 18,
   "metadata": {
    "collapsed": false
   },
   "outputs": [
    {
     "data": {
      "text/plain": [
       "r_asn\n",
       "3         42\n",
       "4         10\n",
       "8         22\n",
       "9          4\n",
       "11         2\n",
       "12         6\n",
       "14         9\n",
       "16        14\n",
       "17        10\n",
       "18         3\n",
       "20         1\n",
       "25        13\n",
       "26         7\n",
       "27        17\n",
       "29         1\n",
       "31         6\n",
       "38         3\n",
       "41         3\n",
       "46         7\n",
       "47        15\n",
       "49         3\n",
       "52        11\n",
       "55         6\n",
       "59         9\n",
       "70         7\n",
       "71        15\n",
       "73        13\n",
       "81        39\n",
       "87         7\n",
       "88         3\n",
       "        ... \n",
       "36347      7\n",
       "36351     16\n",
       "36377      1\n",
       "36384      6\n",
       "36420     13\n",
       "36431      1\n",
       "36493      1\n",
       "36503      1\n",
       "36561     11\n",
       "36643      1\n",
       "36657      2\n",
       "36717      2\n",
       "36727     13\n",
       "36752      6\n",
       "36784      5\n",
       "36816      1\n",
       "36828     14\n",
       "36839     23\n",
       "36850      2\n",
       "36856    177\n",
       "37945      6\n",
       "38083      3\n",
       "39386      3\n",
       "39484      3\n",
       "39561      1\n",
       "39570      2\n",
       "39632      1\n",
       "39834      1\n",
       "40028      4\n",
       "40092      1\n",
       "dtype: int64"
      ]
     },
     "execution_count": 18,
     "metadata": {},
     "output_type": "execute_result"
    }
   ],
   "source": [
    "botnet.groupby('r_asn').size()"
   ]
  },
  {
   "cell_type": "code",
   "execution_count": 21,
   "metadata": {
    "collapsed": true
   },
   "outputs": [],
   "source": [
    "#Group number of connection based on total"
   ]
  },
  {
   "cell_type": "code",
   "execution_count": 20,
   "metadata": {
    "collapsed": false
   },
   "outputs": [
    {
     "data": {
      "text/plain": [
       "f\n",
       "1         7161\n",
       "2         3994\n",
       "3         1327\n",
       "4         1244\n",
       "5          622\n",
       "6          655\n",
       "7          385\n",
       "8          413\n",
       "9          234\n",
       "10         208\n",
       "11         225\n",
       "12         216\n",
       "13         173\n",
       "14         147\n",
       "15         138\n",
       "16         112\n",
       "17         102\n",
       "18         116\n",
       "19          91\n",
       "20          77\n",
       "21          68\n",
       "22          75\n",
       "23          76\n",
       "24          64\n",
       "25          44\n",
       "26          67\n",
       "27          40\n",
       "28          53\n",
       "29          44\n",
       "30          47\n",
       "          ... \n",
       "3810         1\n",
       "3873         1\n",
       "3957         1\n",
       "4051         2\n",
       "4099         1\n",
       "4166         1\n",
       "4212         1\n",
       "4271         1\n",
       "4358         1\n",
       "4375         1\n",
       "4405         1\n",
       "4408         1\n",
       "4409         1\n",
       "4422         1\n",
       "4487         1\n",
       "4627         1\n",
       "4662         1\n",
       "4665         1\n",
       "4676         1\n",
       "4698         1\n",
       "4701         1\n",
       "4702         1\n",
       "4708         1\n",
       "4718         1\n",
       "5059         1\n",
       "5214         1\n",
       "7899         1\n",
       "7902         1\n",
       "274011       1\n",
       "784234       1\n",
       "dtype: int64"
      ]
     },
     "execution_count": 20,
     "metadata": {},
     "output_type": "execute_result"
    }
   ],
   "source": [
    "botnet.groupby('f').size()"
   ]
  },
  {
   "cell_type": "code",
   "execution_count": 22,
   "metadata": {
    "collapsed": true
   },
   "outputs": [],
   "source": [
    "#Average connection"
   ]
  },
  {
   "cell_type": "code",
   "execution_count": 25,
   "metadata": {
    "collapsed": false
   },
   "outputs": [
    {
     "data": {
      "text/plain": [
       "93.91424313800894"
      ]
     },
     "execution_count": 25,
     "metadata": {},
     "output_type": "execute_result"
    }
   ],
   "source": [
    "botnet['f'].mean()"
   ]
  },
  {
   "cell_type": "code",
   "execution_count": 26,
   "metadata": {
    "collapsed": false
   },
   "outputs": [
    {
     "data": {
      "text/plain": [
       "l_ipn  r_asn\n",
       "0      4           1.000000\n",
       "       8           2.000000\n",
       "       27          1.000000\n",
       "       46          1.000000\n",
       "       52          1.000000\n",
       "       81          2.000000\n",
       "       91        307.000000\n",
       "       137         1.000000\n",
       "       156        42.000000\n",
       "       205         1.000000\n",
       "       209         1.344828\n",
       "       225       850.000000\n",
       "       226         1.000000\n",
       "       553         4.000000\n",
       "       558         1.000000\n",
       "       577         1.000000\n",
       "       600         1.000000\n",
       "       680         1.000000\n",
       "       684      1303.000000\n",
       "       701         8.730159\n",
       "       702         4.000000\n",
       "       714         1.166667\n",
       "       766         1.000000\n",
       "       786         2.000000\n",
       "       812         1.000000\n",
       "       852         1.000000\n",
       "       1103        1.000000\n",
       "       1133        2.000000\n",
       "       1213        1.000000\n",
       "       1221        1.000000\n",
       "                   ...     \n",
       "9      32787      12.000000\n",
       "       32962       2.000000\n",
       "       33070       4.888889\n",
       "       33085      13.000000\n",
       "       33182       3.000000\n",
       "       33260       5.000000\n",
       "       33322       1.000000\n",
       "       33419       8.700000\n",
       "       33549       2.000000\n",
       "       33554       1.000000\n",
       "       33694       7.304348\n",
       "       33724       1.000000\n",
       "       33739      19.250000\n",
       "       34013       5.000000\n",
       "       34768       6.000000\n",
       "       35845       1.250000\n",
       "       36017       6.000000\n",
       "       36024       2.000000\n",
       "       36031      20.000000\n",
       "       36088     194.583333\n",
       "       36221       1.500000\n",
       "       36323       2.500000\n",
       "       36347       1.000000\n",
       "       36351       3.000000\n",
       "       36420       8.666667\n",
       "       36431      53.000000\n",
       "       36561       9.333333\n",
       "       36839       7.133333\n",
       "       36850       1.000000\n",
       "       36856       2.250000\n",
       "Name: f, dtype: float64"
      ]
     },
     "execution_count": 26,
     "metadata": {},
     "output_type": "execute_result"
    }
   ],
   "source": [
    "botnet['f'].groupby([botnet['l_ipn'], botnet['r_asn']]).mean()"
   ]
  },
  {
   "cell_type": "code",
   "execution_count": 28,
   "metadata": {
    "collapsed": true
   },
   "outputs": [],
   "source": [
    "#The highest number of connection"
   ]
  },
  {
   "cell_type": "code",
   "execution_count": 29,
   "metadata": {
    "collapsed": false
   },
   "outputs": [
    {
     "data": {
      "text/plain": [
       "784234"
      ]
     },
     "execution_count": 29,
     "metadata": {},
     "output_type": "execute_result"
    }
   ],
   "source": [
    "botnet['f'].max()"
   ]
  },
  {
   "cell_type": "code",
   "execution_count": 30,
   "metadata": {
    "collapsed": false
   },
   "outputs": [
    {
     "data": {
      "text/plain": [
       "l_ipn  r_asn\n",
       "0      4           1\n",
       "       8           2\n",
       "       27          1\n",
       "       46          1\n",
       "       52          1\n",
       "       81          2\n",
       "       91        307\n",
       "       137         1\n",
       "       156        42\n",
       "       205         1\n",
       "       209         3\n",
       "       225       850\n",
       "       226         1\n",
       "       553         4\n",
       "       558         1\n",
       "       577         1\n",
       "       600         1\n",
       "       680         1\n",
       "       684      1303\n",
       "       701       325\n",
       "       702         7\n",
       "       714         2\n",
       "       766         1\n",
       "       786         2\n",
       "       812         1\n",
       "       852         1\n",
       "       1103        1\n",
       "       1133        2\n",
       "       1213        1\n",
       "       1221        1\n",
       "                ... \n",
       "9      32787      12\n",
       "       32962       2\n",
       "       33070      18\n",
       "       33085      13\n",
       "       33182       3\n",
       "       33260       8\n",
       "       33322       1\n",
       "       33419      58\n",
       "       33549       2\n",
       "       33554       1\n",
       "       33694      34\n",
       "       33724       1\n",
       "       33739      55\n",
       "       34013       5\n",
       "       34768       6\n",
       "       35845       2\n",
       "       36017       6\n",
       "       36024       2\n",
       "       36031      20\n",
       "       36088     415\n",
       "       36221       2\n",
       "       36323       5\n",
       "       36347       1\n",
       "       36351       3\n",
       "       36420      43\n",
       "       36431      53\n",
       "       36561      27\n",
       "       36839      43\n",
       "       36850       1\n",
       "       36856       7\n",
       "Name: f, dtype: int64"
      ]
     },
     "execution_count": 30,
     "metadata": {},
     "output_type": "execute_result"
    }
   ],
   "source": [
    "botnet['f'].groupby([botnet['l_ipn'], botnet['r_asn']]).max()"
   ]
  },
  {
   "cell_type": "code",
   "execution_count": 31,
   "metadata": {
    "collapsed": true
   },
   "outputs": [],
   "source": [
    "#The lowest number of connection"
   ]
  },
  {
   "cell_type": "code",
   "execution_count": 32,
   "metadata": {
    "collapsed": false
   },
   "outputs": [
    {
     "data": {
      "text/plain": [
       "1"
      ]
     },
     "execution_count": 32,
     "metadata": {},
     "output_type": "execute_result"
    }
   ],
   "source": [
    "botnet['f'].min()"
   ]
  },
  {
   "cell_type": "code",
   "execution_count": 33,
   "metadata": {
    "collapsed": false
   },
   "outputs": [
    {
     "data": {
      "text/plain": [
       "l_ipn  r_asn\n",
       "0      4           1\n",
       "       8           2\n",
       "       27          1\n",
       "       46          1\n",
       "       52          1\n",
       "       81          2\n",
       "       91        307\n",
       "       137         1\n",
       "       156        42\n",
       "       205         1\n",
       "       209         1\n",
       "       225       850\n",
       "       226         1\n",
       "       553         4\n",
       "       558         1\n",
       "       577         1\n",
       "       600         1\n",
       "       680         1\n",
       "       684      1303\n",
       "       701         1\n",
       "       702         1\n",
       "       714         1\n",
       "       766         1\n",
       "       786         2\n",
       "       812         1\n",
       "       852         1\n",
       "       1103        1\n",
       "       1133        2\n",
       "       1213        1\n",
       "       1221        1\n",
       "                ... \n",
       "9      32787      12\n",
       "       32962       2\n",
       "       33070       1\n",
       "       33085      13\n",
       "       33182       3\n",
       "       33260       2\n",
       "       33322       1\n",
       "       33419       1\n",
       "       33549       2\n",
       "       33554       1\n",
       "       33694       1\n",
       "       33724       1\n",
       "       33739       6\n",
       "       34013       5\n",
       "       34768       6\n",
       "       35845       1\n",
       "       36017       6\n",
       "       36024       2\n",
       "       36031      20\n",
       "       36088       6\n",
       "       36221       1\n",
       "       36323       1\n",
       "       36347       1\n",
       "       36351       3\n",
       "       36420       1\n",
       "       36431      53\n",
       "       36561       1\n",
       "       36839       1\n",
       "       36850       1\n",
       "       36856       1\n",
       "Name: f, dtype: int64"
      ]
     },
     "execution_count": 33,
     "metadata": {},
     "output_type": "execute_result"
    }
   ],
   "source": [
    "botnet['f'].groupby([botnet['l_ipn'], botnet['r_asn']]).min()"
   ]
  },
  {
   "cell_type": "code",
   "execution_count": 34,
   "metadata": {
    "collapsed": true
   },
   "outputs": [],
   "source": [
    "#The median number of connection"
   ]
  },
  {
   "cell_type": "code",
   "execution_count": 35,
   "metadata": {
    "collapsed": false
   },
   "outputs": [
    {
     "data": {
      "text/plain": [
       "2.0"
      ]
     },
     "execution_count": 35,
     "metadata": {},
     "output_type": "execute_result"
    }
   ],
   "source": [
    "botnet['f'].median()"
   ]
  },
  {
   "cell_type": "code",
   "execution_count": 36,
   "metadata": {
    "collapsed": false
   },
   "outputs": [
    {
     "data": {
      "text/plain": [
       "l_ipn  r_asn\n",
       "0      4           1.0\n",
       "       8           2.0\n",
       "       27          1.0\n",
       "       46          1.0\n",
       "       52          1.0\n",
       "       81          2.0\n",
       "       91        307.0\n",
       "       137         1.0\n",
       "       156        42.0\n",
       "       205         1.0\n",
       "       209         1.0\n",
       "       225       850.0\n",
       "       226         1.0\n",
       "       553         4.0\n",
       "       558         1.0\n",
       "       577         1.0\n",
       "       600         1.0\n",
       "       680         1.0\n",
       "       684      1303.0\n",
       "       701         3.0\n",
       "       702         4.0\n",
       "       714         1.0\n",
       "       766         1.0\n",
       "       786         2.0\n",
       "       812         1.0\n",
       "       852         1.0\n",
       "       1103        1.0\n",
       "       1133        2.0\n",
       "       1213        1.0\n",
       "       1221        1.0\n",
       "                 ...  \n",
       "9      32787      12.0\n",
       "       32962       2.0\n",
       "       33070       2.0\n",
       "       33085      13.0\n",
       "       33182       3.0\n",
       "       33260       5.0\n",
       "       33322       1.0\n",
       "       33419       3.5\n",
       "       33549       2.0\n",
       "       33554       1.0\n",
       "       33694       3.0\n",
       "       33724       1.0\n",
       "       33739       8.0\n",
       "       34013       5.0\n",
       "       34768       6.0\n",
       "       35845       1.0\n",
       "       36017       6.0\n",
       "       36024       2.0\n",
       "       36031      20.0\n",
       "       36088     211.5\n",
       "       36221       1.5\n",
       "       36323       2.0\n",
       "       36347       1.0\n",
       "       36351       3.0\n",
       "       36420       2.0\n",
       "       36431      53.0\n",
       "       36561       7.5\n",
       "       36839       2.0\n",
       "       36850       1.0\n",
       "       36856       2.0\n",
       "Name: f, dtype: float64"
      ]
     },
     "execution_count": 36,
     "metadata": {},
     "output_type": "execute_result"
    }
   ],
   "source": [
    "botnet['f'].groupby([botnet['l_ipn'], botnet['r_asn']]).median()"
   ]
  },
  {
   "cell_type": "code",
   "execution_count": 39,
   "metadata": {
    "collapsed": true
   },
   "outputs": [],
   "source": [
    "#Describe overall dataset"
   ]
  },
  {
   "cell_type": "code",
   "execution_count": 37,
   "metadata": {
    "collapsed": false
   },
   "outputs": [
    {
     "data": {
      "text/html": [
       "<div>\n",
       "<table border=\"1\" class=\"dataframe\">\n",
       "  <thead>\n",
       "    <tr style=\"text-align: right;\">\n",
       "      <th></th>\n",
       "      <th>l_ipn</th>\n",
       "      <th>r_asn</th>\n",
       "      <th>f</th>\n",
       "    </tr>\n",
       "  </thead>\n",
       "  <tbody>\n",
       "    <tr>\n",
       "      <th>count</th>\n",
       "      <td>20803.000000</td>\n",
       "      <td>20803.000000</td>\n",
       "      <td>20803.000000</td>\n",
       "    </tr>\n",
       "    <tr>\n",
       "      <th>mean</th>\n",
       "      <td>4.228236</td>\n",
       "      <td>12138.320338</td>\n",
       "      <td>93.914243</td>\n",
       "    </tr>\n",
       "    <tr>\n",
       "      <th>std</th>\n",
       "      <td>3.278183</td>\n",
       "      <td>9766.324252</td>\n",
       "      <td>5764.995269</td>\n",
       "    </tr>\n",
       "    <tr>\n",
       "      <th>min</th>\n",
       "      <td>0.000000</td>\n",
       "      <td>3.000000</td>\n",
       "      <td>1.000000</td>\n",
       "    </tr>\n",
       "    <tr>\n",
       "      <th>25%</th>\n",
       "      <td>1.000000</td>\n",
       "      <td>4323.000000</td>\n",
       "      <td>1.000000</td>\n",
       "    </tr>\n",
       "    <tr>\n",
       "      <th>50%</th>\n",
       "      <td>4.000000</td>\n",
       "      <td>8764.000000</td>\n",
       "      <td>2.000000</td>\n",
       "    </tr>\n",
       "    <tr>\n",
       "      <th>75%</th>\n",
       "      <td>7.000000</td>\n",
       "      <td>17676.000000</td>\n",
       "      <td>8.000000</td>\n",
       "    </tr>\n",
       "    <tr>\n",
       "      <th>max</th>\n",
       "      <td>9.000000</td>\n",
       "      <td>40092.000000</td>\n",
       "      <td>784234.000000</td>\n",
       "    </tr>\n",
       "  </tbody>\n",
       "</table>\n",
       "</div>"
      ],
      "text/plain": [
       "              l_ipn         r_asn              f\n",
       "count  20803.000000  20803.000000   20803.000000\n",
       "mean       4.228236  12138.320338      93.914243\n",
       "std        3.278183   9766.324252    5764.995269\n",
       "min        0.000000      3.000000       1.000000\n",
       "25%        1.000000   4323.000000       1.000000\n",
       "50%        4.000000   8764.000000       2.000000\n",
       "75%        7.000000  17676.000000       8.000000\n",
       "max        9.000000  40092.000000  784234.000000"
      ]
     },
     "execution_count": 37,
     "metadata": {},
     "output_type": "execute_result"
    }
   ],
   "source": [
    "botnet.describe()"
   ]
  },
  {
   "cell_type": "code",
   "execution_count": 40,
   "metadata": {
    "collapsed": true
   },
   "outputs": [],
   "source": [
    "#List out Total connection based on workstation ID"
   ]
  },
  {
   "cell_type": "code",
   "execution_count": 41,
   "metadata": {
    "collapsed": false
   },
   "outputs": [
    {
     "data": {
      "text/plain": [
       "l_ipn\n",
       "0    3980\n",
       "1    2159\n",
       "2    2416\n",
       "3    1186\n",
       "4    1308\n",
       "5    1249\n",
       "6    1305\n",
       "7    2233\n",
       "8    2230\n",
       "9    2737\n",
       "dtype: int64"
      ]
     },
     "execution_count": 41,
     "metadata": {},
     "output_type": "execute_result"
    }
   ],
   "source": [
    "botnet.groupby('l_ipn').size()"
   ]
  },
  {
   "cell_type": "code",
   "execution_count": 42,
   "metadata": {
    "collapsed": true
   },
   "outputs": [],
   "source": [
    "#Select workstation 0"
   ]
  },
  {
   "cell_type": "code",
   "execution_count": 44,
   "metadata": {
    "collapsed": false
   },
   "outputs": [
    {
     "data": {
      "text/html": [
       "<div>\n",
       "<table border=\"1\" class=\"dataframe\">\n",
       "  <thead>\n",
       "    <tr style=\"text-align: right;\">\n",
       "      <th></th>\n",
       "      <th>date</th>\n",
       "      <th>l_ipn</th>\n",
       "      <th>r_asn</th>\n",
       "      <th>f</th>\n",
       "    </tr>\n",
       "  </thead>\n",
       "  <tbody>\n",
       "    <tr>\n",
       "      <th>0</th>\n",
       "      <td>2006-07-01</td>\n",
       "      <td>0</td>\n",
       "      <td>701</td>\n",
       "      <td>1</td>\n",
       "    </tr>\n",
       "    <tr>\n",
       "      <th>1</th>\n",
       "      <td>2006-07-01</td>\n",
       "      <td>0</td>\n",
       "      <td>714</td>\n",
       "      <td>1</td>\n",
       "    </tr>\n",
       "    <tr>\n",
       "      <th>2</th>\n",
       "      <td>2006-07-01</td>\n",
       "      <td>0</td>\n",
       "      <td>1239</td>\n",
       "      <td>1</td>\n",
       "    </tr>\n",
       "    <tr>\n",
       "      <th>3</th>\n",
       "      <td>2006-07-01</td>\n",
       "      <td>0</td>\n",
       "      <td>1680</td>\n",
       "      <td>1</td>\n",
       "    </tr>\n",
       "    <tr>\n",
       "      <th>4</th>\n",
       "      <td>2006-07-01</td>\n",
       "      <td>0</td>\n",
       "      <td>2514</td>\n",
       "      <td>1</td>\n",
       "    </tr>\n",
       "  </tbody>\n",
       "</table>\n",
       "</div>"
      ],
      "text/plain": [
       "         date  l_ipn  r_asn  f\n",
       "0  2006-07-01      0    701  1\n",
       "1  2006-07-01      0    714  1\n",
       "2  2006-07-01      0   1239  1\n",
       "3  2006-07-01      0   1680  1\n",
       "4  2006-07-01      0   2514  1"
      ]
     },
     "execution_count": 44,
     "metadata": {},
     "output_type": "execute_result"
    }
   ],
   "source": [
    "workstation1 = botnet[botnet['l_ipn']==0] \n",
    "workstation1.head()"
   ]
  },
  {
   "cell_type": "code",
   "execution_count": 45,
   "metadata": {
    "collapsed": false
   },
   "outputs": [
    {
     "data": {
      "text/html": [
       "<div>\n",
       "<table border=\"1\" class=\"dataframe\">\n",
       "  <thead>\n",
       "    <tr style=\"text-align: right;\">\n",
       "      <th></th>\n",
       "      <th>l_ipn</th>\n",
       "      <th>r_asn</th>\n",
       "      <th>f</th>\n",
       "    </tr>\n",
       "  </thead>\n",
       "  <tbody>\n",
       "    <tr>\n",
       "      <th>count</th>\n",
       "      <td>3980.0</td>\n",
       "      <td>3980.000000</td>\n",
       "      <td>3980.000000</td>\n",
       "    </tr>\n",
       "    <tr>\n",
       "      <th>mean</th>\n",
       "      <td>0.0</td>\n",
       "      <td>11890.358040</td>\n",
       "      <td>26.426382</td>\n",
       "    </tr>\n",
       "    <tr>\n",
       "      <th>std</th>\n",
       "      <td>0.0</td>\n",
       "      <td>9104.685237</td>\n",
       "      <td>232.733282</td>\n",
       "    </tr>\n",
       "    <tr>\n",
       "      <th>min</th>\n",
       "      <td>0.0</td>\n",
       "      <td>4.000000</td>\n",
       "      <td>1.000000</td>\n",
       "    </tr>\n",
       "    <tr>\n",
       "      <th>25%</th>\n",
       "      <td>0.0</td>\n",
       "      <td>4808.000000</td>\n",
       "      <td>1.000000</td>\n",
       "    </tr>\n",
       "    <tr>\n",
       "      <th>50%</th>\n",
       "      <td>0.0</td>\n",
       "      <td>8708.000000</td>\n",
       "      <td>1.000000</td>\n",
       "    </tr>\n",
       "    <tr>\n",
       "      <th>75%</th>\n",
       "      <td>0.0</td>\n",
       "      <td>17228.000000</td>\n",
       "      <td>2.000000</td>\n",
       "    </tr>\n",
       "    <tr>\n",
       "      <th>max</th>\n",
       "      <td>0.0</td>\n",
       "      <td>39834.000000</td>\n",
       "      <td>5059.000000</td>\n",
       "    </tr>\n",
       "  </tbody>\n",
       "</table>\n",
       "</div>"
      ],
      "text/plain": [
       "        l_ipn         r_asn            f\n",
       "count  3980.0   3980.000000  3980.000000\n",
       "mean      0.0  11890.358040    26.426382\n",
       "std       0.0   9104.685237   232.733282\n",
       "min       0.0      4.000000     1.000000\n",
       "25%       0.0   4808.000000     1.000000\n",
       "50%       0.0   8708.000000     1.000000\n",
       "75%       0.0  17228.000000     2.000000\n",
       "max       0.0  39834.000000  5059.000000"
      ]
     },
     "execution_count": 45,
     "metadata": {},
     "output_type": "execute_result"
    }
   ],
   "source": [
    "workstation1.describe()"
   ]
  },
  {
   "cell_type": "code",
   "execution_count": 46,
   "metadata": {
    "collapsed": false
   },
   "outputs": [
    {
     "data": {
      "text/html": [
       "<div>\n",
       "<table border=\"1\" class=\"dataframe\">\n",
       "  <thead>\n",
       "    <tr style=\"text-align: right;\">\n",
       "      <th></th>\n",
       "      <th>date</th>\n",
       "      <th>l_ipn</th>\n",
       "      <th>r_asn</th>\n",
       "      <th>f</th>\n",
       "    </tr>\n",
       "  </thead>\n",
       "  <tbody>\n",
       "    <tr>\n",
       "      <th>20477</th>\n",
       "      <td>2006-09-29</td>\n",
       "      <td>0</td>\n",
       "      <td>33070</td>\n",
       "      <td>5059</td>\n",
       "    </tr>\n",
       "    <tr>\n",
       "      <th>13547</th>\n",
       "      <td>2006-08-25</td>\n",
       "      <td>0</td>\n",
       "      <td>9316</td>\n",
       "      <td>4487</td>\n",
       "    </tr>\n",
       "    <tr>\n",
       "      <th>11698</th>\n",
       "      <td>2006-08-17</td>\n",
       "      <td>0</td>\n",
       "      <td>31983</td>\n",
       "      <td>4358</td>\n",
       "    </tr>\n",
       "    <tr>\n",
       "      <th>3675</th>\n",
       "      <td>2006-07-18</td>\n",
       "      <td>0</td>\n",
       "      <td>7314</td>\n",
       "      <td>4051</td>\n",
       "    </tr>\n",
       "    <tr>\n",
       "      <th>13746</th>\n",
       "      <td>2006-08-26</td>\n",
       "      <td>0</td>\n",
       "      <td>6478</td>\n",
       "      <td>4051</td>\n",
       "    </tr>\n",
       "    <tr>\n",
       "      <th>4957</th>\n",
       "      <td>2006-07-23</td>\n",
       "      <td>0</td>\n",
       "      <td>32666</td>\n",
       "      <td>3697</td>\n",
       "    </tr>\n",
       "    <tr>\n",
       "      <th>12512</th>\n",
       "      <td>2006-08-21</td>\n",
       "      <td>0</td>\n",
       "      <td>24940</td>\n",
       "      <td>3416</td>\n",
       "    </tr>\n",
       "    <tr>\n",
       "      <th>19838</th>\n",
       "      <td>2006-09-26</td>\n",
       "      <td>0</td>\n",
       "      <td>19548</td>\n",
       "      <td>3184</td>\n",
       "    </tr>\n",
       "    <tr>\n",
       "      <th>20309</th>\n",
       "      <td>2006-09-28</td>\n",
       "      <td>0</td>\n",
       "      <td>33070</td>\n",
       "      <td>3157</td>\n",
       "    </tr>\n",
       "    <tr>\n",
       "      <th>11681</th>\n",
       "      <td>2006-08-17</td>\n",
       "      <td>0</td>\n",
       "      <td>12322</td>\n",
       "      <td>2832</td>\n",
       "    </tr>\n",
       "    <tr>\n",
       "      <th>17998</th>\n",
       "      <td>2006-09-16</td>\n",
       "      <td>0</td>\n",
       "      <td>3462</td>\n",
       "      <td>2744</td>\n",
       "    </tr>\n",
       "    <tr>\n",
       "      <th>658</th>\n",
       "      <td>2006-07-04</td>\n",
       "      <td>0</td>\n",
       "      <td>4766</td>\n",
       "      <td>2714</td>\n",
       "    </tr>\n",
       "    <tr>\n",
       "      <th>18703</th>\n",
       "      <td>2006-09-20</td>\n",
       "      <td>0</td>\n",
       "      <td>9318</td>\n",
       "      <td>2675</td>\n",
       "    </tr>\n",
       "    <tr>\n",
       "      <th>12730</th>\n",
       "      <td>2006-08-22</td>\n",
       "      <td>0</td>\n",
       "      <td>8402</td>\n",
       "      <td>2371</td>\n",
       "    </tr>\n",
       "    <tr>\n",
       "      <th>15762</th>\n",
       "      <td>2006-09-05</td>\n",
       "      <td>0</td>\n",
       "      <td>9371</td>\n",
       "      <td>1905</td>\n",
       "    </tr>\n",
       "    <tr>\n",
       "      <th>19496</th>\n",
       "      <td>2006-09-24</td>\n",
       "      <td>0</td>\n",
       "      <td>9318</td>\n",
       "      <td>1847</td>\n",
       "    </tr>\n",
       "    <tr>\n",
       "      <th>18702</th>\n",
       "      <td>2006-09-20</td>\n",
       "      <td>0</td>\n",
       "      <td>9316</td>\n",
       "      <td>1652</td>\n",
       "    </tr>\n",
       "    <tr>\n",
       "      <th>18036</th>\n",
       "      <td>2006-09-16</td>\n",
       "      <td>0</td>\n",
       "      <td>28571</td>\n",
       "      <td>1539</td>\n",
       "    </tr>\n",
       "    <tr>\n",
       "      <th>17283</th>\n",
       "      <td>2006-09-13</td>\n",
       "      <td>0</td>\n",
       "      <td>2514</td>\n",
       "      <td>1442</td>\n",
       "    </tr>\n",
       "    <tr>\n",
       "      <th>20614</th>\n",
       "      <td>2006-09-30</td>\n",
       "      <td>0</td>\n",
       "      <td>10439</td>\n",
       "      <td>1376</td>\n",
       "    </tr>\n",
       "    <tr>\n",
       "      <th>4189</th>\n",
       "      <td>2006-07-20</td>\n",
       "      <td>0</td>\n",
       "      <td>4837</td>\n",
       "      <td>1367</td>\n",
       "    </tr>\n",
       "    <tr>\n",
       "      <th>17995</th>\n",
       "      <td>2006-09-16</td>\n",
       "      <td>0</td>\n",
       "      <td>684</td>\n",
       "      <td>1303</td>\n",
       "    </tr>\n",
       "    <tr>\n",
       "      <th>3466</th>\n",
       "      <td>2006-07-17</td>\n",
       "      <td>0</td>\n",
       "      <td>3267</td>\n",
       "      <td>1279</td>\n",
       "    </tr>\n",
       "    <tr>\n",
       "      <th>19648</th>\n",
       "      <td>2006-09-25</td>\n",
       "      <td>0</td>\n",
       "      <td>9924</td>\n",
       "      <td>1235</td>\n",
       "    </tr>\n",
       "    <tr>\n",
       "      <th>17060</th>\n",
       "      <td>2006-09-12</td>\n",
       "      <td>0</td>\n",
       "      <td>5617</td>\n",
       "      <td>1218</td>\n",
       "    </tr>\n",
       "    <tr>\n",
       "      <th>4414</th>\n",
       "      <td>2006-07-21</td>\n",
       "      <td>0</td>\n",
       "      <td>13749</td>\n",
       "      <td>1118</td>\n",
       "    </tr>\n",
       "    <tr>\n",
       "      <th>9472</th>\n",
       "      <td>2006-08-08</td>\n",
       "      <td>0</td>\n",
       "      <td>12173</td>\n",
       "      <td>1055</td>\n",
       "    </tr>\n",
       "    <tr>\n",
       "      <th>15122</th>\n",
       "      <td>2006-09-01</td>\n",
       "      <td>0</td>\n",
       "      <td>4725</td>\n",
       "      <td>952</td>\n",
       "    </tr>\n",
       "    <tr>\n",
       "      <th>14946</th>\n",
       "      <td>2006-08-31</td>\n",
       "      <td>0</td>\n",
       "      <td>20853</td>\n",
       "      <td>872</td>\n",
       "    </tr>\n",
       "    <tr>\n",
       "      <th>14942</th>\n",
       "      <td>2006-08-31</td>\n",
       "      <td>0</td>\n",
       "      <td>15802</td>\n",
       "      <td>854</td>\n",
       "    </tr>\n",
       "    <tr>\n",
       "      <th>...</th>\n",
       "      <td>...</td>\n",
       "      <td>...</td>\n",
       "      <td>...</td>\n",
       "      <td>...</td>\n",
       "    </tr>\n",
       "    <tr>\n",
       "      <th>8751</th>\n",
       "      <td>2006-08-05</td>\n",
       "      <td>0</td>\n",
       "      <td>9498</td>\n",
       "      <td>1</td>\n",
       "    </tr>\n",
       "    <tr>\n",
       "      <th>8752</th>\n",
       "      <td>2006-08-05</td>\n",
       "      <td>0</td>\n",
       "      <td>9812</td>\n",
       "      <td>1</td>\n",
       "    </tr>\n",
       "    <tr>\n",
       "      <th>8753</th>\n",
       "      <td>2006-08-05</td>\n",
       "      <td>0</td>\n",
       "      <td>9824</td>\n",
       "      <td>1</td>\n",
       "    </tr>\n",
       "    <tr>\n",
       "      <th>8754</th>\n",
       "      <td>2006-08-05</td>\n",
       "      <td>0</td>\n",
       "      <td>10738</td>\n",
       "      <td>1</td>\n",
       "    </tr>\n",
       "    <tr>\n",
       "      <th>8536</th>\n",
       "      <td>2006-08-04</td>\n",
       "      <td>0</td>\n",
       "      <td>13184</td>\n",
       "      <td>1</td>\n",
       "    </tr>\n",
       "    <tr>\n",
       "      <th>8534</th>\n",
       "      <td>2006-08-04</td>\n",
       "      <td>0</td>\n",
       "      <td>11426</td>\n",
       "      <td>1</td>\n",
       "    </tr>\n",
       "    <tr>\n",
       "      <th>8285</th>\n",
       "      <td>2006-08-03</td>\n",
       "      <td>0</td>\n",
       "      <td>33774</td>\n",
       "      <td>1</td>\n",
       "    </tr>\n",
       "    <tr>\n",
       "      <th>8532</th>\n",
       "      <td>2006-08-04</td>\n",
       "      <td>0</td>\n",
       "      <td>9121</td>\n",
       "      <td>1</td>\n",
       "    </tr>\n",
       "    <tr>\n",
       "      <th>8504</th>\n",
       "      <td>2006-08-04</td>\n",
       "      <td>0</td>\n",
       "      <td>209</td>\n",
       "      <td>1</td>\n",
       "    </tr>\n",
       "    <tr>\n",
       "      <th>8507</th>\n",
       "      <td>2006-08-04</td>\n",
       "      <td>0</td>\n",
       "      <td>2518</td>\n",
       "      <td>1</td>\n",
       "    </tr>\n",
       "    <tr>\n",
       "      <th>8508</th>\n",
       "      <td>2006-08-04</td>\n",
       "      <td>0</td>\n",
       "      <td>3215</td>\n",
       "      <td>1</td>\n",
       "    </tr>\n",
       "    <tr>\n",
       "      <th>8509</th>\n",
       "      <td>2006-08-04</td>\n",
       "      <td>0</td>\n",
       "      <td>3320</td>\n",
       "      <td>1</td>\n",
       "    </tr>\n",
       "    <tr>\n",
       "      <th>8510</th>\n",
       "      <td>2006-08-04</td>\n",
       "      <td>0</td>\n",
       "      <td>3549</td>\n",
       "      <td>1</td>\n",
       "    </tr>\n",
       "    <tr>\n",
       "      <th>8513</th>\n",
       "      <td>2006-08-04</td>\n",
       "      <td>0</td>\n",
       "      <td>4538</td>\n",
       "      <td>1</td>\n",
       "    </tr>\n",
       "    <tr>\n",
       "      <th>8514</th>\n",
       "      <td>2006-08-04</td>\n",
       "      <td>0</td>\n",
       "      <td>4766</td>\n",
       "      <td>1</td>\n",
       "    </tr>\n",
       "    <tr>\n",
       "      <th>8515</th>\n",
       "      <td>2006-08-04</td>\n",
       "      <td>0</td>\n",
       "      <td>4788</td>\n",
       "      <td>1</td>\n",
       "    </tr>\n",
       "    <tr>\n",
       "      <th>8517</th>\n",
       "      <td>2006-08-04</td>\n",
       "      <td>0</td>\n",
       "      <td>4837</td>\n",
       "      <td>1</td>\n",
       "    </tr>\n",
       "    <tr>\n",
       "      <th>8518</th>\n",
       "      <td>2006-08-04</td>\n",
       "      <td>0</td>\n",
       "      <td>5089</td>\n",
       "      <td>1</td>\n",
       "    </tr>\n",
       "    <tr>\n",
       "      <th>8519</th>\n",
       "      <td>2006-08-04</td>\n",
       "      <td>0</td>\n",
       "      <td>5739</td>\n",
       "      <td>1</td>\n",
       "    </tr>\n",
       "    <tr>\n",
       "      <th>8521</th>\n",
       "      <td>2006-08-04</td>\n",
       "      <td>0</td>\n",
       "      <td>6432</td>\n",
       "      <td>1</td>\n",
       "    </tr>\n",
       "    <tr>\n",
       "      <th>8522</th>\n",
       "      <td>2006-08-04</td>\n",
       "      <td>0</td>\n",
       "      <td>6461</td>\n",
       "      <td>1</td>\n",
       "    </tr>\n",
       "    <tr>\n",
       "      <th>8523</th>\n",
       "      <td>2006-08-04</td>\n",
       "      <td>0</td>\n",
       "      <td>6478</td>\n",
       "      <td>1</td>\n",
       "    </tr>\n",
       "    <tr>\n",
       "      <th>8524</th>\n",
       "      <td>2006-08-04</td>\n",
       "      <td>0</td>\n",
       "      <td>6713</td>\n",
       "      <td>1</td>\n",
       "    </tr>\n",
       "    <tr>\n",
       "      <th>8525</th>\n",
       "      <td>2006-08-04</td>\n",
       "      <td>0</td>\n",
       "      <td>6724</td>\n",
       "      <td>1</td>\n",
       "    </tr>\n",
       "    <tr>\n",
       "      <th>8526</th>\n",
       "      <td>2006-08-04</td>\n",
       "      <td>0</td>\n",
       "      <td>6848</td>\n",
       "      <td>1</td>\n",
       "    </tr>\n",
       "    <tr>\n",
       "      <th>8528</th>\n",
       "      <td>2006-08-04</td>\n",
       "      <td>0</td>\n",
       "      <td>8167</td>\n",
       "      <td>1</td>\n",
       "    </tr>\n",
       "    <tr>\n",
       "      <th>8529</th>\n",
       "      <td>2006-08-04</td>\n",
       "      <td>0</td>\n",
       "      <td>8560</td>\n",
       "      <td>1</td>\n",
       "    </tr>\n",
       "    <tr>\n",
       "      <th>8530</th>\n",
       "      <td>2006-08-04</td>\n",
       "      <td>0</td>\n",
       "      <td>8708</td>\n",
       "      <td>1</td>\n",
       "    </tr>\n",
       "    <tr>\n",
       "      <th>8531</th>\n",
       "      <td>2006-08-04</td>\n",
       "      <td>0</td>\n",
       "      <td>9116</td>\n",
       "      <td>1</td>\n",
       "    </tr>\n",
       "    <tr>\n",
       "      <th>20628</th>\n",
       "      <td>2006-09-30</td>\n",
       "      <td>0</td>\n",
       "      <td>39484</td>\n",
       "      <td>1</td>\n",
       "    </tr>\n",
       "  </tbody>\n",
       "</table>\n",
       "<p>3980 rows × 4 columns</p>\n",
       "</div>"
      ],
      "text/plain": [
       "             date  l_ipn  r_asn     f\n",
       "20477  2006-09-29      0  33070  5059\n",
       "13547  2006-08-25      0   9316  4487\n",
       "11698  2006-08-17      0  31983  4358\n",
       "3675   2006-07-18      0   7314  4051\n",
       "13746  2006-08-26      0   6478  4051\n",
       "4957   2006-07-23      0  32666  3697\n",
       "12512  2006-08-21      0  24940  3416\n",
       "19838  2006-09-26      0  19548  3184\n",
       "20309  2006-09-28      0  33070  3157\n",
       "11681  2006-08-17      0  12322  2832\n",
       "17998  2006-09-16      0   3462  2744\n",
       "658    2006-07-04      0   4766  2714\n",
       "18703  2006-09-20      0   9318  2675\n",
       "12730  2006-08-22      0   8402  2371\n",
       "15762  2006-09-05      0   9371  1905\n",
       "19496  2006-09-24      0   9318  1847\n",
       "18702  2006-09-20      0   9316  1652\n",
       "18036  2006-09-16      0  28571  1539\n",
       "17283  2006-09-13      0   2514  1442\n",
       "20614  2006-09-30      0  10439  1376\n",
       "4189   2006-07-20      0   4837  1367\n",
       "17995  2006-09-16      0    684  1303\n",
       "3466   2006-07-17      0   3267  1279\n",
       "19648  2006-09-25      0   9924  1235\n",
       "17060  2006-09-12      0   5617  1218\n",
       "4414   2006-07-21      0  13749  1118\n",
       "9472   2006-08-08      0  12173  1055\n",
       "15122  2006-09-01      0   4725   952\n",
       "14946  2006-08-31      0  20853   872\n",
       "14942  2006-08-31      0  15802   854\n",
       "...           ...    ...    ...   ...\n",
       "8751   2006-08-05      0   9498     1\n",
       "8752   2006-08-05      0   9812     1\n",
       "8753   2006-08-05      0   9824     1\n",
       "8754   2006-08-05      0  10738     1\n",
       "8536   2006-08-04      0  13184     1\n",
       "8534   2006-08-04      0  11426     1\n",
       "8285   2006-08-03      0  33774     1\n",
       "8532   2006-08-04      0   9121     1\n",
       "8504   2006-08-04      0    209     1\n",
       "8507   2006-08-04      0   2518     1\n",
       "8508   2006-08-04      0   3215     1\n",
       "8509   2006-08-04      0   3320     1\n",
       "8510   2006-08-04      0   3549     1\n",
       "8513   2006-08-04      0   4538     1\n",
       "8514   2006-08-04      0   4766     1\n",
       "8515   2006-08-04      0   4788     1\n",
       "8517   2006-08-04      0   4837     1\n",
       "8518   2006-08-04      0   5089     1\n",
       "8519   2006-08-04      0   5739     1\n",
       "8521   2006-08-04      0   6432     1\n",
       "8522   2006-08-04      0   6461     1\n",
       "8523   2006-08-04      0   6478     1\n",
       "8524   2006-08-04      0   6713     1\n",
       "8525   2006-08-04      0   6724     1\n",
       "8526   2006-08-04      0   6848     1\n",
       "8528   2006-08-04      0   8167     1\n",
       "8529   2006-08-04      0   8560     1\n",
       "8530   2006-08-04      0   8708     1\n",
       "8531   2006-08-04      0   9116     1\n",
       "20628  2006-09-30      0  39484     1\n",
       "\n",
       "[3980 rows x 4 columns]"
      ]
     },
     "execution_count": 46,
     "metadata": {},
     "output_type": "execute_result"
    }
   ],
   "source": [
    "workstation1.sort_values(('f'), ascending = False)"
   ]
  },
  {
   "cell_type": "code",
   "execution_count": null,
   "metadata": {
    "collapsed": true
   },
   "outputs": [],
   "source": []
  }
 ],
 "metadata": {
  "kernelspec": {
   "display_name": "Python 3",
   "language": "python",
   "name": "python3"
  },
  "language_info": {
   "codemirror_mode": {
    "name": "ipython",
    "version": 3
   },
   "file_extension": ".py",
   "mimetype": "text/x-python",
   "name": "python",
   "nbconvert_exporter": "python",
   "pygments_lexer": "ipython3",
   "version": "3.6.0"
  }
 },
 "nbformat": 4,
 "nbformat_minor": 2
}
