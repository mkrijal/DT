{
 "cells": [
  {
   "cell_type": "code",
   "execution_count": 7,
   "metadata": {
    "collapsed": true
   },
   "outputs": [],
   "source": [
    "# Import Libraries"
   ]
  },
  {
   "cell_type": "code",
   "execution_count": 8,
   "metadata": {
    "collapsed": true
   },
   "outputs": [],
   "source": [
    "import pandas as pd\n",
    "import numpy as np\n",
    "import matplotlib.pyplot as plt"
   ]
  },
  {
   "cell_type": "code",
   "execution_count": 10,
   "metadata": {
    "collapsed": true
   },
   "outputs": [],
   "source": [
    "#Import Dataset"
   ]
  },
  {
   "cell_type": "code",
   "execution_count": 11,
   "metadata": {
    "collapsed": false
   },
   "outputs": [
    {
     "data": {
      "text/html": [
       "<div>\n",
       "<table border=\"1\" class=\"dataframe\">\n",
       "  <thead>\n",
       "    <tr style=\"text-align: right;\">\n",
       "      <th></th>\n",
       "      <th>date</th>\n",
       "      <th>l_ipn</th>\n",
       "      <th>r_asn</th>\n",
       "      <th>f</th>\n",
       "    </tr>\n",
       "  </thead>\n",
       "  <tbody>\n",
       "    <tr>\n",
       "      <th>0</th>\n",
       "      <td>2006-07-01</td>\n",
       "      <td>0</td>\n",
       "      <td>701</td>\n",
       "      <td>1</td>\n",
       "    </tr>\n",
       "    <tr>\n",
       "      <th>1</th>\n",
       "      <td>2006-07-01</td>\n",
       "      <td>0</td>\n",
       "      <td>714</td>\n",
       "      <td>1</td>\n",
       "    </tr>\n",
       "    <tr>\n",
       "      <th>2</th>\n",
       "      <td>2006-07-01</td>\n",
       "      <td>0</td>\n",
       "      <td>1239</td>\n",
       "      <td>1</td>\n",
       "    </tr>\n",
       "    <tr>\n",
       "      <th>3</th>\n",
       "      <td>2006-07-01</td>\n",
       "      <td>0</td>\n",
       "      <td>1680</td>\n",
       "      <td>1</td>\n",
       "    </tr>\n",
       "    <tr>\n",
       "      <th>4</th>\n",
       "      <td>2006-07-01</td>\n",
       "      <td>0</td>\n",
       "      <td>2514</td>\n",
       "      <td>1</td>\n",
       "    </tr>\n",
       "  </tbody>\n",
       "</table>\n",
       "</div>"
      ],
      "text/plain": [
       "         date  l_ipn  r_asn  f\n",
       "0  2006-07-01      0    701  1\n",
       "1  2006-07-01      0    714  1\n",
       "2  2006-07-01      0   1239  1\n",
       "3  2006-07-01      0   1680  1\n",
       "4  2006-07-01      0   2514  1"
      ]
     },
     "execution_count": 11,
     "metadata": {},
     "output_type": "execute_result"
    }
   ],
   "source": [
    "botnet = pd.read_csv('D://Project1/Security/Botnet threat/cs448b_ipasn.csv')\n",
    "botnet.head()"
   ]
  },
  {
   "cell_type": "code",
   "execution_count": 12,
   "metadata": {
    "collapsed": false
   },
   "outputs": [
    {
     "name": "stdout",
     "output_type": "stream",
     "text": [
      "<class 'pandas.core.frame.DataFrame'>\n",
      "RangeIndex: 20803 entries, 0 to 20802\n",
      "Data columns (total 4 columns):\n",
      "date     20803 non-null object\n",
      "l_ipn    20803 non-null int64\n",
      "r_asn    20803 non-null int64\n",
      "f        20803 non-null int64\n",
      "dtypes: int64(3), object(1)\n",
      "memory usage: 650.2+ KB\n"
     ]
    }
   ],
   "source": [
    "botnet.info()"
   ]
  },
  {
   "cell_type": "code",
   "execution_count": 13,
   "metadata": {
    "collapsed": false
   },
   "outputs": [
    {
     "data": {
      "text/plain": [
       "20803"
      ]
     },
     "execution_count": 13,
     "metadata": {},
     "output_type": "execute_result"
    }
   ],
   "source": [
    "#Total row\n",
    "botnet.shape[0]"
   ]
  },
  {
   "cell_type": "code",
   "execution_count": 16,
   "metadata": {
    "collapsed": true
   },
   "outputs": [],
   "source": [
    "#Get total number of connection for all local IP"
   ]
  },
  {
   "cell_type": "code",
   "execution_count": 15,
   "metadata": {
    "collapsed": false
   },
   "outputs": [
    {
     "data": {
      "text/plain": [
       "l_ipn\n",
       "0    3980\n",
       "1    2159\n",
       "2    2416\n",
       "3    1186\n",
       "4    1308\n",
       "5    1249\n",
       "6    1305\n",
       "7    2233\n",
       "8    2230\n",
       "9    2737\n",
       "dtype: int64"
      ]
     },
     "execution_count": 15,
     "metadata": {},
     "output_type": "execute_result"
    }
   ],
   "source": [
    "botnet.groupby('l_ipn').size()"
   ]
  },
  {
   "cell_type": "code",
   "execution_count": 17,
   "metadata": {
    "collapsed": true
   },
   "outputs": [],
   "source": [
    "#Get total number of connection for all foreign IP"
   ]
  },
  {
   "cell_type": "code",
   "execution_count": 18,
   "metadata": {
    "collapsed": false
   },
   "outputs": [
    {
     "data": {
      "text/plain": [
       "r_asn\n",
       "3         42\n",
       "4         10\n",
       "8         22\n",
       "9          4\n",
       "11         2\n",
       "12         6\n",
       "14         9\n",
       "16        14\n",
       "17        10\n",
       "18         3\n",
       "20         1\n",
       "25        13\n",
       "26         7\n",
       "27        17\n",
       "29         1\n",
       "31         6\n",
       "38         3\n",
       "41         3\n",
       "46         7\n",
       "47        15\n",
       "49         3\n",
       "52        11\n",
       "55         6\n",
       "59         9\n",
       "70         7\n",
       "71        15\n",
       "73        13\n",
       "81        39\n",
       "87         7\n",
       "88         3\n",
       "        ... \n",
       "36347      7\n",
       "36351     16\n",
       "36377      1\n",
       "36384      6\n",
       "36420     13\n",
       "36431      1\n",
       "36493      1\n",
       "36503      1\n",
       "36561     11\n",
       "36643      1\n",
       "36657      2\n",
       "36717      2\n",
       "36727     13\n",
       "36752      6\n",
       "36784      5\n",
       "36816      1\n",
       "36828     14\n",
       "36839     23\n",
       "36850      2\n",
       "36856    177\n",
       "37945      6\n",
       "38083      3\n",
       "39386      3\n",
       "39484      3\n",
       "39561      1\n",
       "39570      2\n",
       "39632      1\n",
       "39834      1\n",
       "40028      4\n",
       "40092      1\n",
       "dtype: int64"
      ]
     },
     "execution_count": 18,
     "metadata": {},
     "output_type": "execute_result"
    }
   ],
   "source": [
    "botnet.groupby('r_asn').size()"
   ]
  },
  {
   "cell_type": "code",
   "execution_count": 21,
   "metadata": {
    "collapsed": true
   },
   "outputs": [],
   "source": [
    "#Group number of connection based on total"
   ]
  },
  {
   "cell_type": "code",
   "execution_count": 20,
   "metadata": {
    "collapsed": false
   },
   "outputs": [
    {
     "data": {
      "text/plain": [
       "f\n",
       "1         7161\n",
       "2         3994\n",
       "3         1327\n",
       "4         1244\n",
       "5          622\n",
       "6          655\n",
       "7          385\n",
       "8          413\n",
       "9          234\n",
       "10         208\n",
       "11         225\n",
       "12         216\n",
       "13         173\n",
       "14         147\n",
       "15         138\n",
       "16         112\n",
       "17         102\n",
       "18         116\n",
       "19          91\n",
       "20          77\n",
       "21          68\n",
       "22          75\n",
       "23          76\n",
       "24          64\n",
       "25          44\n",
       "26          67\n",
       "27          40\n",
       "28          53\n",
       "29          44\n",
       "30          47\n",
       "          ... \n",
       "3810         1\n",
       "3873         1\n",
       "3957         1\n",
       "4051         2\n",
       "4099         1\n",
       "4166         1\n",
       "4212         1\n",
       "4271         1\n",
       "4358         1\n",
       "4375         1\n",
       "4405         1\n",
       "4408         1\n",
       "4409         1\n",
       "4422         1\n",
       "4487         1\n",
       "4627         1\n",
       "4662         1\n",
       "4665         1\n",
       "4676         1\n",
       "4698         1\n",
       "4701         1\n",
       "4702         1\n",
       "4708         1\n",
       "4718         1\n",
       "5059         1\n",
       "5214         1\n",
       "7899         1\n",
       "7902         1\n",
       "274011       1\n",
       "784234       1\n",
       "dtype: int64"
      ]
     },
     "execution_count": 20,
     "metadata": {},
     "output_type": "execute_result"
    }
   ],
   "source": [
    "botnet.groupby('f').size()"
   ]
  },
  {
   "cell_type": "code",
   "execution_count": 22,
   "metadata": {
    "collapsed": true
   },
   "outputs": [],
   "source": [
    "#Average connection"
   ]
  },
  {
   "cell_type": "code",
   "execution_count": 25,
   "metadata": {
    "collapsed": false
   },
   "outputs": [
    {
     "data": {
      "text/plain": [
       "93.91424313800894"
      ]
     },
     "execution_count": 25,
     "metadata": {},
     "output_type": "execute_result"
    }
   ],
   "source": [
    "botnet['f'].mean()"
   ]
  },
  {
   "cell_type": "code",
   "execution_count": 26,
   "metadata": {
    "collapsed": false
   },
   "outputs": [
    {
     "data": {
      "text/plain": [
       "l_ipn  r_asn\n",
       "0      4           1.000000\n",
       "       8           2.000000\n",
       "       27          1.000000\n",
       "       46          1.000000\n",
       "       52          1.000000\n",
       "       81          2.000000\n",
       "       91        307.000000\n",
       "       137         1.000000\n",
       "       156        42.000000\n",
       "       205         1.000000\n",
       "       209         1.344828\n",
       "       225       850.000000\n",
       "       226         1.000000\n",
       "       553         4.000000\n",
       "       558         1.000000\n",
       "       577         1.000000\n",
       "       600         1.000000\n",
       "       680         1.000000\n",
       "       684      1303.000000\n",
       "       701         8.730159\n",
       "       702         4.000000\n",
       "       714         1.166667\n",
       "       766         1.000000\n",
       "       786         2.000000\n",
       "       812         1.000000\n",
       "       852         1.000000\n",
       "       1103        1.000000\n",
       "       1133        2.000000\n",
       "       1213        1.000000\n",
       "       1221        1.000000\n",
       "                   ...     \n",
       "9      32787      12.000000\n",
       "       32962       2.000000\n",
       "       33070       4.888889\n",
       "       33085      13.000000\n",
       "       33182       3.000000\n",
       "       33260       5.000000\n",
       "       33322       1.000000\n",
       "       33419       8.700000\n",
       "       33549       2.000000\n",
       "       33554       1.000000\n",
       "       33694       7.304348\n",
       "       33724       1.000000\n",
       "       33739      19.250000\n",
       "       34013       5.000000\n",
       "       34768       6.000000\n",
       "       35845       1.250000\n",
       "       36017       6.000000\n",
       "       36024       2.000000\n",
       "       36031      20.000000\n",
       "       36088     194.583333\n",
       "       36221       1.500000\n",
       "       36323       2.500000\n",
       "       36347       1.000000\n",
       "       36351       3.000000\n",
       "       36420       8.666667\n",
       "       36431      53.000000\n",
       "       36561       9.333333\n",
       "       36839       7.133333\n",
       "       36850       1.000000\n",
       "       36856       2.250000\n",
       "Name: f, dtype: float64"
      ]
     },
     "execution_count": 26,
     "metadata": {},
     "output_type": "execute_result"
    }
   ],
   "source": [
    "botnet['f'].groupby([botnet['l_ipn'], botnet['r_asn']]).mean()"
   ]
  },
  {
   "cell_type": "code",
   "execution_count": 28,
   "metadata": {
    "collapsed": true
   },
   "outputs": [],
   "source": [
    "#The highest number of connection"
   ]
  },
  {
   "cell_type": "code",
   "execution_count": 29,
   "metadata": {
    "collapsed": false
   },
   "outputs": [
    {
     "data": {
      "text/plain": [
       "784234"
      ]
     },
     "execution_count": 29,
     "metadata": {},
     "output_type": "execute_result"
    }
   ],
   "source": [
    "botnet['f'].max()"
   ]
  },
  {
   "cell_type": "code",
   "execution_count": 30,
   "metadata": {
    "collapsed": false
   },
   "outputs": [
    {
     "data": {
      "text/plain": [
       "l_ipn  r_asn\n",
       "0      4           1\n",
       "       8           2\n",
       "       27          1\n",
       "       46          1\n",
       "       52          1\n",
       "       81          2\n",
       "       91        307\n",
       "       137         1\n",
       "       156        42\n",
       "       205         1\n",
       "       209         3\n",
       "       225       850\n",
       "       226         1\n",
       "       553         4\n",
       "       558         1\n",
       "       577         1\n",
       "       600         1\n",
       "       680         1\n",
       "       684      1303\n",
       "       701       325\n",
       "       702         7\n",
       "       714         2\n",
       "       766         1\n",
       "       786         2\n",
       "       812         1\n",
       "       852         1\n",
       "       1103        1\n",
       "       1133        2\n",
       "       1213        1\n",
       "       1221        1\n",
       "                ... \n",
       "9      32787      12\n",
       "       32962       2\n",
       "       33070      18\n",
       "       33085      13\n",
       "       33182       3\n",
       "       33260       8\n",
       "       33322       1\n",
       "       33419      58\n",
       "       33549       2\n",
       "       33554       1\n",
       "       33694      34\n",
       "       33724       1\n",
       "       33739      55\n",
       "       34013       5\n",
       "       34768       6\n",
       "       35845       2\n",
       "       36017       6\n",
       "       36024       2\n",
       "       36031      20\n",
       "       36088     415\n",
       "       36221       2\n",
       "       36323       5\n",
       "       36347       1\n",
       "       36351       3\n",
       "       36420      43\n",
       "       36431      53\n",
       "       36561      27\n",
       "       36839      43\n",
       "       36850       1\n",
       "       36856       7\n",
       "Name: f, dtype: int64"
      ]
     },
     "execution_count": 30,
     "metadata": {},
     "output_type": "execute_result"
    }
   ],
   "source": [
    "botnet['f'].groupby([botnet['l_ipn'], botnet['r_asn']]).max()"
   ]
  },
  {
   "cell_type": "code",
   "execution_count": 31,
   "metadata": {
    "collapsed": true
   },
   "outputs": [],
   "source": [
    "#The lowest number of connection"
   ]
  },
  {
   "cell_type": "code",
   "execution_count": 32,
   "metadata": {
    "collapsed": false
   },
   "outputs": [
    {
     "data": {
      "text/plain": [
       "1"
      ]
     },
     "execution_count": 32,
     "metadata": {},
     "output_type": "execute_result"
    }
   ],
   "source": [
    "botnet['f'].min()"
   ]
  },
  {
   "cell_type": "code",
   "execution_count": 33,
   "metadata": {
    "collapsed": false
   },
   "outputs": [
    {
     "data": {
      "text/plain": [
       "l_ipn  r_asn\n",
       "0      4           1\n",
       "       8           2\n",
       "       27          1\n",
       "       46          1\n",
       "       52          1\n",
       "       81          2\n",
       "       91        307\n",
       "       137         1\n",
       "       156        42\n",
       "       205         1\n",
       "       209         1\n",
       "       225       850\n",
       "       226         1\n",
       "       553         4\n",
       "       558         1\n",
       "       577         1\n",
       "       600         1\n",
       "       680         1\n",
       "       684      1303\n",
       "       701         1\n",
       "       702         1\n",
       "       714         1\n",
       "       766         1\n",
       "       786         2\n",
       "       812         1\n",
       "       852         1\n",
       "       1103        1\n",
       "       1133        2\n",
       "       1213        1\n",
       "       1221        1\n",
       "                ... \n",
       "9      32787      12\n",
       "       32962       2\n",
       "       33070       1\n",
       "       33085      13\n",
       "       33182       3\n",
       "       33260       2\n",
       "       33322       1\n",
       "       33419       1\n",
       "       33549       2\n",
       "       33554       1\n",
       "       33694       1\n",
       "       33724       1\n",
       "       33739       6\n",
       "       34013       5\n",
       "       34768       6\n",
       "       35845       1\n",
       "       36017       6\n",
       "       36024       2\n",
       "       36031      20\n",
       "       36088       6\n",
       "       36221       1\n",
       "       36323       1\n",
       "       36347       1\n",
       "       36351       3\n",
       "       36420       1\n",
       "       36431      53\n",
       "       36561       1\n",
       "       36839       1\n",
       "       36850       1\n",
       "       36856       1\n",
       "Name: f, dtype: int64"
      ]
     },
     "execution_count": 33,
     "metadata": {},
     "output_type": "execute_result"
    }
   ],
   "source": [
    "botnet['f'].groupby([botnet['l_ipn'], botnet['r_asn']]).min()"
   ]
  },
  {
   "cell_type": "code",
   "execution_count": null,
   "metadata": {
    "collapsed": true
   },
   "outputs": [],
   "source": []
  }
 ],
 "metadata": {
  "kernelspec": {
   "display_name": "Python 3",
   "language": "python",
   "name": "python3"
  },
  "language_info": {
   "codemirror_mode": {
    "name": "ipython",
    "version": 3
   },
   "file_extension": ".py",
   "mimetype": "text/x-python",
   "name": "python",
   "nbconvert_exporter": "python",
   "pygments_lexer": "ipython3",
   "version": "3.6.0"
  }
 },
 "nbformat": 4,
 "nbformat_minor": 2
}
